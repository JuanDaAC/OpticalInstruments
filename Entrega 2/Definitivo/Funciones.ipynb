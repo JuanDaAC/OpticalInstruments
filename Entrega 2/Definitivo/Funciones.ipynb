{
 "cells": [
  {
   "cell_type": "code",
   "execution_count": 1,
   "metadata": {},
   "outputs": [],
   "source": [
    "#se importan las librerias\n",
    "import cv2\n",
    "import matplotlib.pyplot as plt\n",
    "import numpy as np\n",
    "%matplotlib inline   \n",
    "#%matplotlib qt  \n",
    "nm=1e-9\n",
    "um=1e-6\n",
    "mm=1e-3\n",
    "cm=1e-2"
   ]
  },
  {
   "cell_type": "code",
   "execution_count": 3,
   "metadata": {},
   "outputs": [],
   "source": [
    "#Función DFT En 2 dimensiones\n",
    "\n",
    "def DFF_2D(entrada):\n",
    "    M, N = np.shape(entrada)\n",
    "    #Malla de la matriz\n",
    "    dft2d = np.zeros((M,N),dtype=\"complex\")\n",
    "    \n",
    "    #Fourier transform\n",
    "    for i in range(0,N):\n",
    "        for j in range(0,M):\n",
    "         for m in range(0,N):\n",
    "            for n in range(0,M):\n",
    "                dft2d[i,j] +=entrada[m,n]*np.exp((-1j*2*np.pi)*((i*m/N) + (j*n/M)))\n",
    "\n",
    "    return dft2d"
   ]
  },
  {
   "cell_type": "code",
   "execution_count": 8,
   "metadata": {},
   "outputs": [
    {
     "data": {
      "image/png": "[encoded data removed]",
      "text/plain": [
       "<Figure size 1080x1080 with 3 Axes>"
      ]
     },
     "metadata": {
      "needs_background": "light"
     },
     "output_type": "display_data"
    }
   ],
   "source": [
    "#Apertura circular\n",
    "mask=np.zeros((64,64),dtype=\"uint8\")\n",
    "cv2.circle(mask,(32,32),16,1,-1)\n",
    "\n",
    "mask1=np.zeros((32,32),dtype=\"uint8\")\n",
    "cv2.circle(mask1,(16,16),8,1,-1)\n",
    "\n",
    "mask2=np.zeros((128,128),dtype=\"uint8\")\n",
    "cv2.circle(mask2,(64,64),32,1,-1)\n",
    "\n",
    "fig, ax = plt.subplots(1,3,figsize=(15, 15))\n",
    "\n",
    "plt.imshow(mask2)\n",
    "ax[0].imshow(mask1,cmap=\"gray\")\n",
    "ax[1].imshow(mask,cmap=\"gray\")\n",
    "ax[2].imshow(mask2,cmap=\"gray\")\n",
    "plt.show()\n"
   ]
  },
  {
   "cell_type": "code",
   "execution_count": null,
   "metadata": {},
   "outputs": [],
   "source": [
    "#Transformada de Fresnel FFT\n",
    "def TrFr(entrada,z,dx,dy,W_l):\n",
    "    #Contenido frecuencial de la imagen (transformada de fourier)\n",
    "    k= 2*np.pi/W_l\n",
    "    N,M= np.shape(entrada)\n",
    "    x=np.arange(-int(N/2),int(N/2),1)\n",
    "    y=np.arange(-int(M/2),int(M/2),1)\n",
    "    X, Y=np.meshgrid(x,y)\n",
    "    X0, Y0=np.meshgrid(x,y)\n",
    "\n",
    "    #concidion de buen muestreo\n",
    "    dx_0=(W_l*z)/(M*dx)\n",
    "    dy_0=(W_l*z)/(N*dy)\n",
    "\n",
    "    fx=X0*(1/(N*dx_0))\n",
    "    fy=Y0*(1/(M*dy_0))\n",
    "    \n",
    "    #Constante de U_0\n",
    "    C1= (1j*(k/(2*z)))\n",
    "    U_1 = entrada*np.exp(C1*(((X*dx)**2) + ((Y*dy)**2)))\n",
    "    U_2 = np.fft.fft2(U_1)\n",
    "\n",
    "    #Constantes de U_2\n",
    "    C2= ((np.exp(1j*k*z))/(1j*W_l*z))\n",
    "    C3= 1j*(k/(2*z))\n",
    "\n",
    "    U_3= U_2*C2*np.exp(C3*(((fx)**2) + ((fy)**2)))\n",
    "    \n",
    "    return U_3\n",
    "\n",
    "plt.imshow(np.abs(np.fft.fftshift((TrFr(mask,0.1,1*um,1*um,632.8*nm)))))\n",
    "plt.show()\n",
    "    "
   ]
  },
  {
   "cell_type": "code",
   "execution_count": null,
   "metadata": {},
   "outputs": [],
   "source": [
    "#Transformada de Fresnel DFT\n",
    "def TrFrD(entrada,z,dx,dy,W_l):\n",
    "    #Contenido frecuencial de la imagen (transformada de fourier)\n",
    "    k= 2*np.pi/W_l\n",
    "    N,M= np.shape(entrada)\n",
    "    x=np.arange(-int(N/2),int(N/2),1)\n",
    "    y=np.arange(-int(M/2),int(M/2),1)\n",
    "    X, Y=np.meshgrid(x,y)\n",
    "    X_0, Y_0 =np.meshgrid(x,y)\n",
    "\n",
    "    #concidion de buen muestreo\n",
    "    dx_0=(W_l*z)/(M*dx)\n",
    "    dy_0=(W_l*z)/(N*dy)\n",
    "\n",
    "    #Constante de U_0\n",
    "    C1= ((1j*k)/(2*z))\n",
    "\n",
    "    U_1 = entrada*np.exp(C1*(((X_0*dx_0)**2) + ((Y_0*dy_0)**2)))\n",
    "\n",
    "    U_2 = DFF_2D(U_1)\n",
    "\n",
    "    #Constantes de U_2\n",
    "    C2= np.exp(1j*k*z)/(1j*W_l*z)\n",
    "    C3= ((1j*k)/(2*z))\n",
    "\n",
    "    U_3= U_2*C2*np.exp(C3*(((X*dx)**2) + ((Y*dy)**2)))\n",
    "    \n",
    "    return U_3\n",
    "\n",
    "plt.imshow(np.abs(np.fft.fftshift((TrFrD(mask,0.13,1,1,650)))))\n",
    "plt.show()"
   ]
  },
  {
   "cell_type": "code",
   "execution_count": null,
   "metadata": {},
   "outputs": [],
   "source": [
    "# ESPECTRO ANGULAR POR FFT\n",
    "def AngFT(entrada,z,dx,dy,wavelength):\n",
    "    k=2*np.pi/wavelength\n",
    "    U_0=entrada\n",
    "    A_0=np.fft.fftshift(np.fft.fft2(U_0))\n",
    "    N,M= np.shape(U_0)\n",
    "    x=np.arange(-int(N/2),int(N/2),1)\n",
    "    y=np.arange(-int(M/2),int(M/2),1)\n",
    "    X, Y=np.meshgrid(x,y)\n",
    "\n",
    "    #dimensiones de mundo en frecuencias\n",
    "    fx=X*(1/(N*dx))\n",
    "    fy=Y*(1/(M*dy))\n",
    "\n",
    "    #transferencia\n",
    "    H=np.exp(1j*k*z* np.emath.sqrt( 1 - (wavelength**2)*(fx**2+fy**2)  ))\n",
    "    A_z=A_0*H\n",
    "    U_z=np.fft.ifft2(A_z)\n",
    "        \n",
    "    return U_z\n",
    "\n",
    "plt.imshow(np.abs(AngFT(mask2,1*cm,1*um,1*um,650*nm)))\n",
    "plt.show()\n"
   ]
  },
  {
   "cell_type": "code",
   "execution_count": null,
   "metadata": {},
   "outputs": [],
   "source": [
    "# ESPECTRO ANGULAR POR DFT\n",
    "def AngFT(entrada,z,dx,dy,wavelength):\n",
    "     \n",
    "    U_0= entrada\n",
    "    N_y,N_x=np.shape(U_0)\n",
    "\n",
    "    k = 2 * np.pi / wavelength\n",
    "\n",
    "    delta_fx=1/dx\n",
    "    delta_fy=1/dy\n",
    "\n",
    "    fx = np.fft.fftfreq(N_x, 1/(delta_fx*N_x))\n",
    "    fy = np.fft.fftfreq(N_y, 1/(delta_fy*N_y))\n",
    "\n",
    "    Fx, Fy = np.meshgrid(fx, fy)\n",
    "\n",
    "    #calculo el espectro inicial\n",
    "    A_0=DFF_2D(U_0)\n",
    "\n",
    "    #transferencia\n",
    "    A_z = np.zeros((len(Fx), len(Fy)), dtype = np.complex_)\n",
    "    a=k**2 - 2*np.pi*(Fx**2+Fy**2)\n",
    "    b=a<0\n",
    "    H = np.exp(1j*z*np.emath.sqrt(a))\n",
    "    A_z=A_0*H\n",
    "\n",
    "    #inverse fourier\n",
    "    U_z = IDFF_2D(A_z)\n",
    "    \n",
    "    return U_z\n",
    "\n",
    "plt.imshow(np.abs(((AngFT(mask2,10*mm,1*mm,1*mm,650*nm)))))\n",
    "plt.show()\n"
   ]
  }
 ],
 "metadata": {
  "interpreter": {
   "hash": "600c25c12856a842ab64bd468beca1647a20977f2accb2696f130eafa2c53eb8"
  },
  "kernelspec": {
   "display_name": "Python 3.8.8 64-bit ('base': conda)",
   "language": "python",
   "name": "python3"
  },
  "language_info": {
   "codemirror_mode": {
    "name": "ipython",
    "version": 3
   },
   "file_extension": ".py",
   "mimetype": "text/x-python",
   "name": "python",
   "nbconvert_exporter": "python",
   "pygments_lexer": "ipython3",
   "version": "3.8.8"
  },
  "orig_nbformat": 4
 },
 "nbformat": 4,
 "nbformat_minor": 2
}
