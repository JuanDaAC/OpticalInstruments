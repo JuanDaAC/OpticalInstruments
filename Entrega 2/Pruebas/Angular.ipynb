{
 "cells": [
  {
   "cell_type": "code",
   "execution_count": 75,
   "metadata": {},
   "outputs": [],
   "source": [
    "#se importan las librerias\n",
    "import cv2\n",
    "import matplotlib.pyplot as plt\n",
    "%matplotlib qt\n",
    "import numpy as np\n",
    "\n",
    "\n",
    "um=1e-6\n",
    "mm=1e-3\n",
    "nm=1e-9\n",
    "cm=1e-2\n",
    "dx=dy=1*um\n",
    "wavelength=650*nm\n",
    "k=2*np.pi/wavelength\n"
   ]
  },
  {
   "cell_type": "code",
   "execution_count": 76,
   "metadata": {},
   "outputs": [],
   "source": [
    "#Apertura circular\n",
    "mask=np.zeros((800,800),dtype=\"uint8\")\n",
    "#cv2.line(mask,(600,700),(77,70),1,2)\n",
    "#cv2.line(mask,(600,700),(600,400),0,2)\n",
    "cv2.circle(mask,(400,400),300,1,-1)\n",
    "plt.imshow(mask,cmap=\"gray\")\n",
    "plt.colorbar()\n",
    "plt.show()\n",
    "np.size(mask)\n",
    "\n",
    "U_0=mask"
   ]
  },
  {
   "cell_type": "code",
   "execution_count": 81,
   "metadata": {},
   "outputs": [
    {
     "data": {
      "text/plain": [
       "<matplotlib.image.AxesImage at 0x1676be189a0>"
      ]
     },
     "execution_count": 81,
     "metadata": {},
     "output_type": "execute_result"
    }
   ],
   "source": [
    "#espectro inicial\n",
    "z=1*cm\n",
    "A_0=np.fft.fftshift(np.fft.fft2(U_0))\n",
    "N,M= np.shape(U_0)\n",
    "x=np.arange(-int(N/2),int(N/2),1)\n",
    "y=np.arange(-int(M/2),int(M/2),1)\n",
    "X, Y=np.meshgrid(x,y)\n",
    "\n",
    "#dimensiones de mundo en frecuencias\n",
    "fx=X*(1/(N*dx))\n",
    "fy=Y*(1/(M*dy))\n",
    "\n",
    "#transferencia\n",
    "H=np.exp(1j*k*z* np.emath.sqrt( 1 - (wavelength**2)*(fx**2+fy**2)  ))\n",
    "A_z=A_0*H\n",
    "U_z=np.fft.ifft2(A_z)\n",
    "plt.imshow(np.abs(U_z)**2)"
   ]
  }
 ],
 "metadata": {
  "interpreter": {
   "hash": "600c25c12856a842ab64bd468beca1647a20977f2accb2696f130eafa2c53eb8"
  },
  "kernelspec": {
   "display_name": "Python 3.8.8 64-bit ('base': conda)",
   "language": "python",
   "name": "python3"
  },
  "language_info": {
   "codemirror_mode": {
    "name": "ipython",
    "version": 3
   },
   "file_extension": ".py",
   "mimetype": "text/x-python",
   "name": "python",
   "nbconvert_exporter": "python",
   "pygments_lexer": "ipython3",
   "version": "3.8.8"
  },
  "orig_nbformat": 4
 },
 "nbformat": 4,
 "nbformat_minor": 2
}
