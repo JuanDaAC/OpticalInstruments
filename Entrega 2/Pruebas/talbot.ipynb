{
 "cells": [
  {
   "cell_type": "code",
   "execution_count": 1,
   "metadata": {},
   "outputs": [],
   "source": [
    "import numpy as np\n",
    "import matplotlib.pyplot as plt\n",
    "%matplotlib qt\n",
    "import cv2"
   ]
  },
  {
   "cell_type": "code",
   "execution_count": 2,
   "metadata": {},
   "outputs": [],
   "source": [
    "# factores multiplicativos de unidades métricas\n",
    "m = 1.\n",
    "cm = 1e-2\n",
    "mm = 1e-3\n",
    "um = 1e-6\n",
    "nm = 1e-9"
   ]
  },
  {
   "cell_type": "code",
   "execution_count": 41,
   "metadata": {},
   "outputs": [],
   "source": [
    "def ang_spec(entrada, del_x, del_y, wave_length, z):\n",
    "    \n",
    "    k = 2*np.pi/wave_length\n",
    "    M, N = np.shape(entrada)\n",
    "\n",
    "    dist = M*del_x**2/wave_length\n",
    "    \n",
    "    # Dimensiones longitudinales de la imagen\n",
    "    Lx = del_x*N\n",
    "    Ly = del_y*M\n",
    "    # Tamaño muestral en las frecuencias\n",
    "    del_fx = 1/Lx\n",
    "    del_fy = 1/Ly\n",
    "        \n",
    "    if N%2==0:\n",
    "        x = np.arange(-int(N/2),int(N/2),1)\n",
    "    else:\n",
    "        x = np.arange(-int(N/2),int(N/2)+1,1)\n",
    "\n",
    "    if M%2==0:\n",
    "        y = np.arange(-int(M/2),int(M/2),1)\n",
    "    else:\n",
    "        y = np.arange(-int(M/2),int(M/2)+1,1)\n",
    "        \n",
    "        \n",
    "    p, q = np.meshgrid(x,y)\n",
    "    fx = p*del_fx\n",
    "    fy = q*del_fy\n",
    "        \n",
    "    # espectro angular en el plano de entrada\n",
    "    A_0 = np.fft.fftshift(np.fft.fft2(entrada)) #np.fft.fft2(entrada) #\n",
    "    ker = np.exp(1j*z*k*np.emath.sqrt(1 - (wave_length**2)*(fx**2+fy**2) )  )\n",
    "    ker = ker\n",
    "    A_z = A_0*ker\n",
    "    U_z = np.fft.ifft2(A_z)\n",
    "\n",
    "    print(f'Longitud x de la imagen: {round(del_x*np.shape(entrada)[1]*100, 2)} cm \\nLongitud y de la imagen: {round(del_y*np.shape(entrada)[0]*100, 2)} cm ')\n",
    "    print(f'Máxima distancia de propagación aceptable: {round(dist, 4)} metros o {round(dist*100, 2)} centímetros')\n",
    "\n",
    "    return U_z"
   ]
  },
  {
   "cell_type": "code",
   "execution_count": 42,
   "metadata": {},
   "outputs": [],
   "source": [
    "def trans(N, m, L, del_x, del_y):\n",
    "    a = np.arange(N)*del_x\n",
    "    b = np.arange(N)*del_y\n",
    "    x, y = np.meshgrid(a, b)\n",
    "    fun = 0.5*(1+m*(np.cos(2*np.pi*x/L)))\n",
    "    return fun"
   ]
  },
  {
   "cell_type": "code",
   "execution_count": 44,
   "metadata": {},
   "outputs": [
    {
     "name": "stdout",
     "output_type": "stream",
     "text": [
      "Longitud x de la imagen: 3.2 cm \n",
      "Longitud y de la imagen: 3.2 cm \n",
      "Máxima distancia de propagación aceptable: 1.0111 metros o 101.11 centímetros\n",
      "37.91469194312796\n"
     ]
    }
   ],
   "source": [
    "N = 1.5\n",
    "L = 400*um \n",
    "del_x = 20*um\n",
    "del_y = 20*um\n",
    "wave_length = 633*nm\n",
    "z = (N*(L**2)/wave_length)\n",
    "mode = 'i'\n",
    "\n",
    "trasmi = trans(1600, 1, L, del_x, del_y)\n",
    "\n",
    "U_z = ang_spec(trasmi, del_x, del_y, wave_length, z)\n",
    "magnitude=np.abs(U_z)**2\n",
    "fig, ax = plt.subplots(2, 1, figsize=(15, 15))\n",
    "ax[0].imshow(trasmi)\n",
    "ax[1].imshow(magnitude)\n",
    "print(z*100)"
   ]
  },
  {
   "cell_type": "code",
   "execution_count": 36,
   "metadata": {},
   "outputs": [],
   "source": [
    "#NewVector\n",
    "z_propag=np.linspace(0,z,200)\n",
    "H=np.shape(z_propag)[0]\n",
    "M=np.shape(U_z)[0]\n",
    "N=np.shape(U_z)[1]\n",
    "talbot_im=np.zeros((H,M),dtype=\"complex\")\n",
    "\n",
    "for i in range(200):\n",
    "    fila=np.abs(ang_spec(trasmi, del_x, del_y, wave_length, i*1.01*cm)[0,:])**2\n",
    "    for j in range (1600):\n",
    "        talbot_im[i,j]=fila[j]\n",
    "\n",
    "\n",
    "\n"
   ]
  },
  {
   "cell_type": "code",
   "execution_count": 70,
   "metadata": {},
   "outputs": [
    {
     "data": {
      "text/plain": [
       "<matplotlib.image.AxesImage at 0x21b974bc280>"
      ]
     },
     "execution_count": 70,
     "metadata": {},
     "output_type": "execute_result"
    }
   ],
   "source": [
    "plt.imshow((np.abs(talbot_im)**2),cmap=\"pink\")"
   ]
  }
 ],
 "metadata": {
  "interpreter": {
   "hash": "8fbb0947df70a354583935f9584a4b89d4a7adfa2a8c6e56802a6980c3b97cf6"
  },
  "kernelspec": {
   "display_name": "Python 3.9.2 64-bit",
   "language": "python",
   "name": "python3"
  },
  "language_info": {
   "codemirror_mode": {
    "name": "ipython",
    "version": 3
   },
   "file_extension": ".py",
   "mimetype": "text/x-python",
   "name": "python",
   "nbconvert_exporter": "python",
   "pygments_lexer": "ipython3",
   "version": "3.8.8"
  },
  "orig_nbformat": 4
 },
 "nbformat": 4,
 "nbformat_minor": 2
}
