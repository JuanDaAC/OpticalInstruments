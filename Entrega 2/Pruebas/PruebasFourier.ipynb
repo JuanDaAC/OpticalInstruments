{
 "cells": [
  {
   "cell_type": "code",
   "execution_count": 1,
   "metadata": {},
   "outputs": [],
   "source": [
    "#se importan las librerias\n",
    "import cv2\n",
    "import matplotlib.pyplot as plt\n",
    "import numpy as np\n",
    "%matplotlib qt\n",
    "\n",
    "nm=1e-9\n",
    "um=1e-6\n",
    "mm=1e-3"
   ]
  },
  {
   "cell_type": "code",
   "execution_count": 54,
   "metadata": {},
   "outputs": [
    {
     "name": "stdout",
     "output_type": "stream",
     "text": [
      "(76.08428018552732+234.16333656488055j)\n",
      "(76.08428018552732+234.16333656488055j)\n"
     ]
    }
   ],
   "source": [
    "#Numero de muestras\n",
    "N_x=500\n",
    "\n",
    "#rango en el cual se van a tomar las muestras de la función\n",
    "a=0\n",
    "b=2*np.pi\n",
    "L_x=b-a\n",
    "#la distancia entre samples es:\n",
    "delta_x=L_x/N_x\n",
    "\n",
    "#defino el vector con N entradas igualmente espaciadas, avanzando como n*delta_x donde n es un entero\n",
    "x=np.linspace(a,b,N_x)\n",
    "\n",
    "#defino la función objetivo\n",
    "Funcion=np.sin(50*x)+np.sin(100*x)\n",
    "\n",
    "#defino el ancho B_x si la señal está bien muestreada:\n",
    "B_x=N_x/L_x\n",
    "\n",
    "#defino el vector del espacio de frecuencias que tiene un tamaño B_x, y un paso de 1/L_x\n",
    "f_x=np.arange(0,B_x,1/L_x)\n",
    "\n",
    "#vector vacio del tamaño de mi vector de frecuencias \n",
    "FFT_Funcion=[0]*len(f_x)\n",
    "\n",
    "#Fourier transform\n",
    "for m in range(0,len(f_x)-1):\n",
    "    for n in range(0,N_x-1):\n",
    "        FFT_Funcion[m]+=Funcion[n]*np.exp(-1j*2*np.pi*(n*m)/N_x)\n",
    "        \n",
    "\n",
    "magnitude=np.angle(FFT_Funcion)\n",
    "plt.plot(np.abs(FFT_Funcion))\n",
    "plt.show()\n",
    "\n",
    "shift_Funcion=[0]*len(f_x)\n",
    "#Fourier transform\n",
    "for i in range(0,500):\n",
    "        shift_Funcion[i] = FFT_Funcion[i]*np.exp(1j*2*0*np.pi/500)\n",
    "        \n",
    "\n",
    "plt.plot(np.abs(shift_Funcion))\n",
    "plt.grid(\"tiny\")\n",
    "plt.show()\n",
    "print(FFT_Funcion[450])\n",
    "print(shift_Funcion[450])"
   ]
  },
  {
   "cell_type": "code",
   "execution_count": 55,
   "metadata": {},
   "outputs": [],
   "source": [
    "#Defino función DFT\n",
    "\n",
    "def DFT_1D(Funcion,N):\n",
    "    #rango en el cual se van a tomar las muestras de la función\n",
    "    a=0\n",
    "    b=2*np.pi\n",
    "    L_x=b-a\n",
    "\n",
    "    #defino el vector con N entradas igualmente espaciadas, avanzando como n*delta_x donde n es un entero\n",
    "    #x=np.linspace(a,b,N)\n",
    "\n",
    "    #defino el ancho B_x si la señal está bien muestreada:\n",
    "    B_x=N/L_x\n",
    "\n",
    "    #defino el vector del espacio de frecuencias que tiene un tamaño B_x, y un paso de 1/L_x\n",
    "    f_x=np.arange(0,B_x,1/L_x)\n",
    "\n",
    "    #vector vacio del tamaño de mi vector de frecuencias \n",
    "    FFT_Funcion=[0]*len(f_x)\n",
    "\n",
    "    #Fourier transform\n",
    "    for m in range(0,len(f_x)):\n",
    "        for n in range(0,N-1):\n",
    "            FFT_Funcion[m]+=Funcion[n]*np.exp(-1j*2*np.pi*(n*m)/N)\n",
    "\n",
    "    return FFT_Funcion\n",
    "    "
   ]
  },
  {
   "cell_type": "code",
   "execution_count": 56,
   "metadata": {},
   "outputs": [],
   "source": [
    "#Función que genera una onda esferica ideal\n",
    "\n",
    "def spherical_wave(M,N,dx,dy,z,wavelength):\n",
    "    #Centros de la imagen\n",
    "    Mcen = int((M/2))\n",
    "    Ncen = int((N/2))\n",
    "   #Arreglos de x y y\n",
    "    x=np.arange(-Mcen,Mcen+1)\n",
    "    y=np.arange(-Ncen,Ncen+1)\n",
    "    #Malla de la matriz\n",
    "    X, Y = np.meshgrid(x,y)\n",
    "    #Vector de una onda\n",
    "    k= 2*np.pi/wavelength\n",
    "\n",
    "    r=np.sqrt(z**2 + (X*dx)**2 + (Y*dy)**2)\n",
    "\n",
    "    sph=np.exp(1j*k*r)/r\n",
    "\n",
    "    return sph"
   ]
  },
  {
   "cell_type": "code",
   "execution_count": 57,
   "metadata": {},
   "outputs": [],
   "source": [
    "#Función DFT En 2 dimensiones\n",
    "\n",
    "def DFF_2D(entrada):\n",
    "    Alto, ancho = np.shape(entrada)\n",
    "    #Malla de la matriz\n",
    "    dft2d = np.zeros((Alto,ancho))\n",
    "    \n",
    "    #Fourier transform\n",
    "    for i in range(0,ancho):\n",
    "        for j in range(0,Alto):\n",
    "         for m in range(0,ancho):\n",
    "            for n in range(0,Alto):\n",
    "                dft2d[i,j] +=entrada[m,n]*np.exp((-1j*2*np.pi)*((i*m/ancho) + (j*n/Alto)))\n",
    "\n",
    "    return dft2d"
   ]
  },
  {
   "cell_type": "code",
   "execution_count": 49,
   "metadata": {},
   "outputs": [
    {
     "data": {
      "text/plain": [
       "<matplotlib.image.AxesImage at 0x25ab23666a0>"
      ]
     },
     "execution_count": 49,
     "metadata": {},
     "output_type": "execute_result"
    }
   ],
   "source": [
    "prueba = cv2.imread(\"c_clue.jpg\",cv2.IMREAD_GRAYSCALE)\n",
    "plt.imshow(prueba)"
   ]
  },
  {
   "cell_type": "code",
   "execution_count": 13,
   "metadata": {},
   "outputs": [
    {
     "data": {
      "text/plain": [
       "numpy.ndarray"
      ]
     },
     "execution_count": 13,
     "metadata": {},
     "output_type": "execute_result"
    }
   ],
   "source": [
    "mask=np.zeros((800,800),dtype=\"uint8\")\n",
    "#cv2.line(mask,(600,700),(77,70),1,2)\n",
    "#cv2.line(mask,(600,700),(600,400),0,2)\n",
    "cv2.circle(mask,(400,400),300,1,-1)\n",
    "plt.imshow(mask,cmap=\"gray\")\n",
    "plt.colorbar()\n",
    "type(mask)\n"
   ]
  },
  {
   "cell_type": "code",
   "execution_count": 27,
   "metadata": {},
   "outputs": [
    {
     "name": "stdout",
     "output_type": "stream",
     "text": [
      "1.2307692307692308\n"
     ]
    }
   ],
   "source": [
    "W_l= 650\n",
    "z= 1\n",
    "k= 2*np.pi/W_l\n",
    "U_0 = mask\n",
    "dx=1\n",
    "#Contenido frecuencial de la imagen (transformada de fourier)\n",
    "Tff_U0 = np.fft.fft2(U_0)\n",
    "\n",
    "#Se define el espacio de coordenadas según la imagen que hace de U_0\n",
    "N,M= np.shape(Tff_U0)\n",
    "tran = np.zeros((N,M),dtype = 'complex_')\n",
    "\n",
    "fx=(1/(dx*N))\n",
    "\n",
    "\n",
    "#c1 = np.exp(1j*z*k)\n",
    "a=(W_l*fx)**2\n",
    "\n",
    "for i in range(0,N):\n",
    "        for j in range(0,M):\n",
    "                tran[i,j] = Tff_U0[i,j]*np.exp((1j*z*k)*np.emath.sqrt(1-(a*(i**2 + j**2))))\n",
    "\n",
    "salida = np.fft.ifftn(tran)\n",
    "np.shape(Tff_U0)\n",
    "\n",
    "print((M*(dx**2))/W_l)\n",
    "\n"
   ]
  },
  {
   "cell_type": "code",
   "execution_count": 28,
   "metadata": {},
   "outputs": [],
   "source": [
    "plt.imshow((np.abs((salida))))\n",
    "plt.show()\n"
   ]
  },
  {
   "cell_type": "code",
   "execution_count": 29,
   "metadata": {},
   "outputs": [
    {
     "data": {
      "text/plain": [
       "<matplotlib.image.AxesImage at 0x25aa5501b50>"
      ]
     },
     "execution_count": 29,
     "metadata": {},
     "output_type": "execute_result"
    }
   ],
   "source": [
    "#todo en nm\n",
    "W_l= 650\n",
    "z= 0.5\n",
    "k= 2*np.pi/W_l\n",
    "U_0 = mask\n",
    "dx=1\n",
    "\n",
    "#Contenido frecuencial de la imagen (transformada de fourier)\n",
    "Tff_U0 = np.fft.fft2(U_0)\n",
    "\n",
    "#Se define el espacio de coordenadas según la imagen que hace de U_0\n",
    "#Centros de la imagen\n",
    "N,M= np.shape(U_0)\n",
    "y=np.arange(0,N,1)\n",
    "x=np.arange(0,M,1)\n",
    "X, Y=np.meshgrid(x,y)\n",
    "\n",
    "fx=(1/(dx*N))\n",
    "fy=Y*(1/(M*dx))\n",
    "c1 = np.exp(1j*z*k)\n",
    "a=(W_l*fx)**2\n",
    "\n",
    "\n",
    "tran1 = Tff_U0[X,Y]*(np.exp((1j*z*k)*np.emath.sqrt(1-(a*(X**2 + Y**2)))))\n",
    "\n",
    "salida1 = np.fft.ifftn(tran1)\n",
    "\n",
    "plt.imshow(np.abs(salida1))\n",
    "\n"
   ]
  },
  {
   "cell_type": "code",
   "execution_count": 61,
   "metadata": {},
   "outputs": [],
   "source": [
    "#Transformada de Fresnel\n",
    "def TrFr(entrada,z,dx,dy,W_l):\n",
    "    #Contenido frecuencial de la imagen (transformada de fourier)\n",
    "    k= 2*np.pi/W_l\n",
    "    N,M= np.shape(entrada)\n",
    "    x=np.arange(-int(N/2),int(N/2),1)\n",
    "    y=np.arange(-int(M/2),int(M/2),1)\n",
    "    X, Y=np.meshgrid(x,y)\n",
    "    X_0, Y_0 =np.meshgrid(x,y)\n",
    "\n",
    "    #concidion de buen muestreo\n",
    "    dx_0=(W_l*z)/(M*dx)\n",
    "    dy_0=(W_l*z)/(N*dy)\n",
    "\n",
    "    #Constante de U_0\n",
    "    C1= ((1j*k)/(2*z))\n",
    "\n",
    "    U_1 = entrada*np.exp(C1*(((X_0*dx_0)**2) + ((Y_0*dy_0)**2)))\n",
    "\n",
    "    U_2 = np.fft.fft2(U_1)\n",
    "\n",
    "    #Constantes de U_2\n",
    "    C2= np.exp(1j*k*z)/(1j*W_l*z)\n",
    "    C3= ((1j*k)/(2*z))\n",
    "\n",
    "    U_3= U_2*C2*np.exp(C3*(((X*dx)**2) + ((Y*dy)**2)))\n",
    "    \n",
    "    return U_3\n",
    "\n",
    "plt.imshow(np.abs(np.fft.fftshift((TrFr(mask,1,1,1,650)))))\n",
    "plt.show()\n",
    "    "
   ]
  },
  {
   "cell_type": "code",
   "execution_count": 60,
   "metadata": {},
   "outputs": [],
   "source": [
    "#Tranferencia de Fresnel\n",
    "\n",
    "def T_Aprox(T_f,dx,dy,z,wavelength):\n",
    "    #Contenido frecuencial de la imagen (transformada de fourier)\n",
    "    T_freq=np.fft.fftshift(np.fft.fft2(T_f))\n",
    "    #Se define el espacio de coordenadas según la imagen que hace de U_0\n",
    "    N,M= np.shape(T_f)\n",
    "    x=np.arange(-int(N/2),int(N/2))\n",
    "    y=np.arange(-int(M/2),int(M/2))\n",
    "    X, Y=np.meshgrid(x,y)\n",
    "\n",
    "    #dimensiones de mundo en frecuencias\n",
    "    fx=X*(1/(N*dx))\n",
    "    fy=Y*(1/(M*dy))\n",
    "\n",
    "    #vector de onda Y constantes de e^{ikz} .....\n",
    "    k= 2*np.pi/wavelength\n",
    "    C1=np.exp(1j*k*z)\n",
    "    C2=-1j*np.pi*wavelength*z\n",
    "\n",
    "    #Tranformada H(f_x,f_y)\n",
    "    Tran=C1*np.exp(C2*((fx**2)+(fy**2)))\n",
    "\n",
    "    #U(x,y,z)\n",
    "    U_resultante=Tran*T_freq\n",
    "\n",
    "    return U_resultante\n",
    "\n",
    "\n",
    "plt.imshow(np.abs(np.fft.ifft2(T_Aprox(mask,1,1,1,650))))\n",
    "plt.show()"
   ]
  },
  {
   "cell_type": "code",
   "execution_count": 34,
   "metadata": {},
   "outputs": [
    {
     "name": "stdout",
     "output_type": "stream",
     "text": [
      "5.456964415305529\n"
     ]
    }
   ],
   "source": [
    "print((1/4*650)**(1/3))"
   ]
  },
  {
   "cell_type": "code",
   "execution_count": null,
   "metadata": {},
   "outputs": [],
   "source": []
  }
 ],
 "metadata": {
  "interpreter": {
   "hash": "600c25c12856a842ab64bd468beca1647a20977f2accb2696f130eafa2c53eb8"
  },
  "kernelspec": {
   "display_name": "Python 3.8.8 64-bit ('base': conda)",
   "language": "python",
   "name": "python3"
  },
  "language_info": {
   "codemirror_mode": {
    "name": "ipython",
    "version": 3
   },
   "file_extension": ".py",
   "mimetype": "text/x-python",
   "name": "python",
   "nbconvert_exporter": "python",
   "pygments_lexer": "ipython3",
   "version": "3.8.8"
  },
  "orig_nbformat": 4
 },
 "nbformat": 4,
 "nbformat_minor": 2
}
