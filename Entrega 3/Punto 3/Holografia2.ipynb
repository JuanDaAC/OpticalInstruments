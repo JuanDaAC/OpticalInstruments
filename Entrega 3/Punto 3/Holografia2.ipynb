{
 "cells": [
  {
   "cell_type": "code",
   "execution_count": 32,
   "metadata": {},
   "outputs": [],
   "source": [
    "#se importan las librerias\n",
    "import cv2\n",
    "import matplotlib.pyplot as plt\n",
    "import numpy as np \n",
    "from win32api import GetSystemMetrics\n",
    "%matplotlib qt  \n",
    "nm=1e-9\n",
    "um=1e-6\n",
    "mm=1e-3\n",
    "cm=1e-2\n",
    "wl=633*nm\n",
    "TamañoSensor=6.513*mm\n",
    "\n",
    "\n",
    "#Se lee la imagen\n",
    "hologram=cv2.imread('Hologram.tiff',0)\n",
    "M,N=np.shape(hologram)\n",
    "\n",
    "\n",
    "deltax=TamañoSensor/N\n",
    "deltay=TamañoSensor/M\n",
    "d=73*mm\n",
    "deltaeta=wl*d/TamañoSensor\n",
    "deltaxi=wl*d/TamañoSensor\n",
    "FFT_Hologram=np.fft.fftshift(np.fft.fft2(hologram))\n",
    "\n",
    "\n",
    "\n",
    "\n",
    "#Creo la mascara circular centrada en el orden 1\n",
    "mask=np.zeros((M,N),dtype=\"uint8\")\n",
    "mask=cv2.circle(mask,(1720,580),500,1,-1)\n",
    "FFT_Hologram=FFT_Hologram*mask\n",
    "masked_hologram=np.fft.ifft2(np.fft.ifftshift(FFT_Hologram))\n",
    "x=np.arange(-int(N/2),int(N/2),1)\n",
    "y=np.arange(-int(M/2),int(M/2),1)\n",
    "k, l=np.meshgrid(x,y)\n",
    "m, n=np.meshgrid(x,y)\n"
   ]
  },
  {
   "cell_type": "code",
   "execution_count": 35,
   "metadata": {},
   "outputs": [],
   "source": [
    "#Reconstrucción\n",
    "A=np.exp(1j*2*np.pi*d/wl)/(1j*wl*d)\n",
    "I_h=masked_hologram\n",
    "R=1\n",
    "B=np.exp((1j*np.pi)/(wl*d)*( (m*deltaeta)**2 +(n*deltaxi)**2))\n",
    "C=np.exp((1j*np.pi)/(wl*d)*((k*deltax)**2 + (l*deltay)**2))"
   ]
  }
 ],
 "metadata": {
  "interpreter": {
   "hash": "600c25c12856a842ab64bd468beca1647a20977f2accb2696f130eafa2c53eb8"
  },
  "kernelspec": {
   "display_name": "Python 3.8.8 64-bit ('base': conda)",
   "language": "python",
   "name": "python3"
  },
  "language_info": {
   "codemirror_mode": {
    "name": "ipython",
    "version": 3
   },
   "file_extension": ".py",
   "mimetype": "text/x-python",
   "name": "python",
   "nbconvert_exporter": "python",
   "pygments_lexer": "ipython3",
   "version": "3.8.8"
  },
  "orig_nbformat": 4
 },
 "nbformat": 4,
 "nbformat_minor": 2
}
