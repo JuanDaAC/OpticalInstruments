{
 "cells": [
  {
   "cell_type": "code",
   "execution_count": 14,
   "metadata": {},
   "outputs": [
    {
     "name": "stderr",
     "output_type": "stream",
     "text": [
      "<ipython-input-14-5586e232f791>:40: RuntimeWarning: divide by zero encountered in log\n",
      "  plt.imshow(np.log(np.abs(FFT_Hologram)))\n"
     ]
    },
    {
     "data": {
      "text/plain": [
       "<matplotlib.image.AxesImage at 0x1f0843406d0>"
      ]
     },
     "execution_count": 14,
     "metadata": {},
     "output_type": "execute_result"
    }
   ],
   "source": [
    "#se importan las librerias\n",
    "import cv2\n",
    "import matplotlib.pyplot as plt\n",
    "import numpy as np \n",
    "from win32api import GetSystemMetrics\n",
    "%matplotlib qt  \n",
    "nm=1e-9\n",
    "um=1e-6\n",
    "mm=1e-3\n",
    "cm=1e-2\n",
    "wl=633*nm\n",
    "TamañoSensor=6.513*mm\n",
    "\n",
    "\n",
    "#Se lee la imagen\n",
    "hologram=cv2.imread('Hologram.tiff',0)\n",
    "M,N=np.shape(hologram)\n",
    "\n",
    "\n",
    "deltax=TamañoSensor/N\n",
    "deltay=TamañoSensor/M\n",
    "d=73*mm\n",
    "deltaeta=wl*d/TamañoSensor\n",
    "deltaxi=wl*d/TamañoSensor\n",
    "FFT_Hologram=np.fft.fftshift(np.fft.fft2(hologram))\n",
    "\n",
    "\n",
    "\n",
    "\n",
    "#Creo la mascara circular centrada en el orden 1\n",
    "mask=np.zeros((M,N),dtype=\"uint8\")\n",
    "mask=cv2.circle(mask,(1720,580),500,1,-1)\n",
    "FFT_Hologram=FFT_Hologram*mask\n",
    "masked_hologram=np.fft.ifft2(np.fft.ifftshift(FFT_Hologram))\n",
    "x=np.arange(-int(N/2),int(N/2),1)\n",
    "y=np.arange(-int(M/2),int(M/2),1)\n",
    "k, l=np.meshgrid(x,y)\n",
    "m, n=np.meshgrid(x,y)\n",
    "\n",
    "\n"
   ]
  },
  {
   "cell_type": "code",
   "execution_count": 7,
   "metadata": {},
   "outputs": [
    {
     "name": "stderr",
     "output_type": "stream",
     "text": [
      "<ipython-input-7-e60a0a69155a>:1: RuntimeWarning: divide by zero encountered in log\n",
      "  plt.imshow(np.log(np.abs(FFT_Hologram)))\n"
     ]
    },
    {
     "data": {
      "text/plain": [
       "<matplotlib.image.AxesImage at 0x1f0b5cd1760>"
      ]
     },
     "execution_count": 7,
     "metadata": {},
     "output_type": "execute_result"
    }
   ],
   "source": []
  },
  {
   "cell_type": "code",
   "execution_count": 2,
   "metadata": {},
   "outputs": [],
   "source": [
    "def PlaneWave(M,N,AnglX,dx,dy,wavelength):\n",
    "  #Centros de la imagen\n",
    "    Mcen = int(M/2)\n",
    "    Ncen = int(N/2)\n",
    "   #Arreglos de x y y\n",
    "    x=np.arange(-Mcen,Mcen)\n",
    "    y=np.arange(-Ncen,Ncen)\n",
    "   #Malla de la matriz\n",
    "    X, Y = np.meshgrid(x,y)\n",
    "   #Vector de una onda\n",
    "    k= 2*np.pi/wavelength\n",
    "    #Angulos en X y Y\n",
    "    Ax=np.sin(AnglX)\n",
    "    E_0=1\n",
    "\n",
    "\n",
    "    wave =E_0* np.exp(1j*k*(Ax*X*dx))\n",
    "\n",
    "    return wave"
   ]
  },
  {
   "cell_type": "code",
   "execution_count": 4,
   "metadata": {},
   "outputs": [
    {
     "data": {
      "text/plain": [
       "<matplotlib.image.AxesImage at 0x1f0b2ed54f0>"
      ]
     },
     "execution_count": 4,
     "metadata": {},
     "output_type": "execute_result"
    }
   ],
   "source": [
    "#Reconstrucción\n",
    "Anglx=0.1\n",
    "d=73*mm\n",
    "A=np.exp(1j*2*np.pi*d/wl)/(1j*wl*d)\n",
    "I_h=masked_hologram\n",
    "R=PlaneWave(M,N,0.3,deltax,deltay,wl)\n",
    "#R=1\n",
    "B=np.exp((1j*np.pi)/(wl*d)*( (m*deltaeta)**2 +(n*deltaxi)**2))\n",
    "C=np.exp((1j*np.pi)/(wl*d)*((k*deltax)**2 + (l*deltay)**2))\n",
    "FFT_factor=np.fft.fftshift(np.fft.fft2(R*I_h*C))\n",
    "IntesityHologram=A*B*FFT_factor\n",
    "plt.imshow(np.abs(IntesityHologram),cmap=\"gray\")"
   ]
  }
 ],
 "metadata": {
  "interpreter": {
   "hash": "600c25c12856a842ab64bd468beca1647a20977f2accb2696f130eafa2c53eb8"
  },
  "kernelspec": {
   "display_name": "Python 3.8.8 64-bit ('base': conda)",
   "language": "python",
   "name": "python3"
  },
  "language_info": {
   "codemirror_mode": {
    "name": "ipython",
    "version": 3
   },
   "file_extension": ".py",
   "mimetype": "text/x-python",
   "name": "python",
   "nbconvert_exporter": "python",
   "pygments_lexer": "ipython3",
   "version": "3.8.8"
  },
  "orig_nbformat": 4
 },
 "nbformat": 4,
 "nbformat_minor": 2
}
