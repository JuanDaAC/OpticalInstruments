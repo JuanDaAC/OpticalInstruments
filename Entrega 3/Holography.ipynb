{
 "cells": [
  {
   "cell_type": "code",
   "execution_count": 1,
   "metadata": {},
   "outputs": [
    {
     "data": {
      "text/plain": [
       "<matplotlib.image.AxesImage at 0x1c2a97f5520>"
      ]
     },
     "execution_count": 1,
     "metadata": {},
     "output_type": "execute_result"
    }
   ],
   "source": [
    "#se importan las librerias\n",
    "import cv2\n",
    "import matplotlib.pyplot as plt\n",
    "import numpy as np \n",
    "from win32api import GetSystemMetrics\n",
    "%matplotlib qt  \n",
    "nm=1e-9\n",
    "um=1e-6\n",
    "mm=1e-3\n",
    "cm=1e-2\n",
    "\n",
    "#longitud de onda\n",
    "wl=633*nm\n",
    "#Tamaño del sensor 6.513mm\n",
    "TamañoSensor=6.513*mm\n",
    "\n",
    "# se lee la imagen y se obtienen los parámetros asociados\n",
    "hologram=cv2.imread('Hologram.tiff',0)\n",
    "M,N=np.shape(hologram)\n",
    "hologram=np.pad(hologram, [(int(M/2), int(M/2)), (int(M/2), int(M/2))], mode='constant', constant_values=0)\n",
    "M,N=np.shape(hologram)\n",
    "#Calculamos el TamañoPixel, (imagen y sensor cuadrados)\n",
    "deltax=TamañoSensor/N\n",
    "deltay=TamañoSensor/M\n",
    "#Eliminamos el orden cero\n",
    "#MeanHologram=hologram-hologram.mean()\n",
    "MeanHologram=hologram\n",
    "\n",
    "\n",
    "FFT_Hologram=np.fft.fft2(MeanHologram)\n",
    "FFT_Hologram=np.fft.fftshift(FFT_Hologram)\n",
    "\n",
    "#Creo la mascara circular centrada en el orden 1\n",
    "mask2=np.zeros((M,N),dtype=\"uint8\")\n",
    "\n",
    "#cv2.circle(mask2,(3450,1160),2040,1,-1)\n",
    "cv2.circle(mask2,(650,2900),500,1,-1)\n",
    "#cv2.circle(mask2,(1024,1024),100,1,-1)\n",
    "FFT_Hologram=FFT_Hologram*mask2\n",
    "\n",
    "OrdenUno=np.fft.ifftshift(FFT_Hologram)\n",
    "OrdenUno=np.fft.ifft2(OrdenUno)\n",
    "MeanHologram=np.abs(OrdenUno)\n",
    "\n",
    "plt.imshow(np.log(np.abs(FFT_Hologram)+0.0001))"
   ]
  },
  {
   "cell_type": "code",
   "execution_count": 61,
   "metadata": {},
   "outputs": [],
   "source": [
    "#Metodo para reescalar las imagenes y verlas con cv2\n",
    "def get_resized_for_display_img(img):\n",
    "    screen_w, screen_h = GetSystemMetrics(0), GetSystemMetrics(1)\n",
    "    print(\"screen size\",screen_w, screen_h)\n",
    "    h,w,channel_nbr = img.shape\n",
    "    # img get w of screen and adapt h\n",
    "    h = h * (screen_w / w)\n",
    "    w = screen_w\n",
    "    if h > screen_h: #if img h still too big\n",
    "        # img get h of screen and adapt w\n",
    "        w = w * (screen_h / h)\n",
    "        h = screen_h\n",
    "    w, h = w*0.9, h*0.9 # because you don't want it to be that big, right ?\n",
    "    w, h = int(w), int(h) # you need int for the cv2.resize\n",
    "    return cv2.resize(img, (w, h))"
   ]
  },
  {
   "cell_type": "code",
   "execution_count": 62,
   "metadata": {},
   "outputs": [],
   "source": [
    "# ESPECTRO ANGULAR POR FFT\n",
    "def ang_spec(entrada,z, del_x, del_y, wave_length):\n",
    "    \n",
    "    k = 2*np.pi/wave_length\n",
    "    M, N = np.shape(entrada)\n",
    "\n",
    "    dist = M*del_x**2/wave_length\n",
    "    \n",
    "    # Dimensiones longitudinales de la imagen\n",
    "    Lx = del_x*N\n",
    "    Ly = del_y*M\n",
    "    # Tamaño muestral en las frecuencias\n",
    "    del_fx = 1/Lx\n",
    "    del_fy = 1/Ly\n",
    "        \n",
    "    if N%2==0:\n",
    "        x = np.arange(-int(N/2),int(N/2),1)\n",
    "    else:\n",
    "        x = np.arange(-int(N/2),int(N/2)+1,1)\n",
    "\n",
    "    if M%2==0:\n",
    "        y = np.arange(-int(M/2),int(M/2),1)\n",
    "    else:\n",
    "        y = np.arange(-int(M/2),int(M/2)+1,1)\n",
    "        \n",
    "        \n",
    "    p, q = np.meshgrid(x,y)\n",
    "    fx = p*del_fx\n",
    "    fy = q*del_fy\n",
    "        \n",
    "    # espectro angular en el plano de entrada\n",
    "    A_0 = np.fft.fftshift(np.fft.fft2(entrada)) #np.fft.fft2(entrada) #\n",
    "    ker = np.exp(1j*z*k*np.emath.sqrt(1 - (wave_length**2)*(fx**2+fy**2) )  )\n",
    "    ker = ker\n",
    "    A_z = A_0*ker\n",
    "    U_z = np.fft.ifft2(A_z)\n",
    "\n",
    "    print(f'Longitud x de la imagen: {round(del_x*np.shape(entrada)[1]*100, 2)} cm \\nLongitud y de la imagen: {round(del_y*np.shape(entrada)[0]*100, 2)} cm ')\n",
    "    print(f'Máxima distancia de propagación aceptable: {round(dist, 4)} metros o {round(dist*100, 2)} centímetros')\n",
    "\n",
    "    return U_z"
   ]
  },
  {
   "cell_type": "code",
   "execution_count": 69,
   "metadata": {},
   "outputs": [
    {
     "name": "stdout",
     "output_type": "stream",
     "text": [
      "Longitud x de la imagen: 0.65 cm \n",
      "Longitud y de la imagen: 0.65 cm \n",
      "Máxima distancia de propagación aceptable: 0.0164 metros o 1.64 centímetros\n"
     ]
    },
    {
     "data": {
      "text/plain": [
       "<matplotlib.image.AxesImage at 0x1d60f8ef2b0>"
      ]
     },
     "execution_count": 69,
     "metadata": {},
     "output_type": "execute_result"
    }
   ],
   "source": [
    "def PlaneWave(M,N,AnglX,dx,dy,wavelength):\n",
    "  #Centros de la imagen\n",
    "    Mcen = int(M/2)\n",
    "    Ncen = int(N/2)\n",
    "   #Arreglos de x y y\n",
    "    x=np.arange(-Mcen,Mcen)\n",
    "    y=np.arange(-Ncen,Ncen)\n",
    "   #Malla de la matriz\n",
    "    X, Y = np.meshgrid(x,y)\n",
    "   #Vector de una onda\n",
    "    k= 2*np.pi/wavelength\n",
    "    #Angulos en X y Y\n",
    "    Ax=np.sin(AnglX)\n",
    "    E_0=1\n",
    "\n",
    "\n",
    "    wave =E_0* np.exp(1j*k*(Ax*X*dx))\n",
    "\n",
    "    return wave\n",
    "wave_ref=PlaneWave(M,N,0.017,TamañoPixel,TamañoPixel,wl)\n",
    "wave_ref_2=np.conj(wave_ref)\n",
    "\n",
    "#Reconstruccion Con espectro angular\n",
    "\n",
    "image=ang_spec(MeanHologram*wave_ref_2,73*mm,TamañoPixel,TamañoPixel,633*nm)\n",
    "image=np.abs(image)\n",
    "#mostrar la imagen\n",
    "plt.imshow(image,cmap=\"gray\")\n"
   ]
  }
 ],
 "metadata": {
  "interpreter": {
   "hash": "600c25c12856a842ab64bd468beca1647a20977f2accb2696f130eafa2c53eb8"
  },
  "kernelspec": {
   "display_name": "Python 3",
   "language": "python",
   "name": "python3"
  },
  "language_info": {
   "codemirror_mode": {
    "name": "ipython",
    "version": 3
   },
   "file_extension": ".py",
   "mimetype": "text/x-python",
   "name": "python",
   "nbconvert_exporter": "python",
   "pygments_lexer": "ipython3",
   "version": "3.8.8"
  }
 },
 "nbformat": 4,
 "nbformat_minor": 2
}
